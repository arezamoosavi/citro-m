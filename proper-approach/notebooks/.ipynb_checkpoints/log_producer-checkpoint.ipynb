{
 "cells": [
  {
   "cell_type": "code",
   "execution_count": 12,
   "metadata": {},
   "outputs": [],
   "source": [
    "import requests\n",
    "from kafka import KafkaProducer\n",
    "from json import dumps"
   ]
  },
  {
   "cell_type": "code",
   "execution_count": 2,
   "metadata": {},
   "outputs": [
    {
     "data": {
      "text/plain": [
       "'{\"name\":\"log-alimo\",\"configs\":{\"message.downconversion.enable\":\"true\",\"file.delete.delay.ms\":\"60000\",\"segment.ms\":\"604800000\",\"min.compaction.lag.ms\":\"0\",\"retention.bytes\":\"-1\",\"segment.index.bytes\":\"10485760\",\"cleanup.policy\":\"delete\",\"max.compaction.lag.ms\":\"9223372036854775807\",\"follower.replication.throttled.replicas\":\"\",\"message.timestamp.difference.max.ms\":\"9223372036854775807\",\"confluent.placement.constraints\":\"\",\"segment.jitter.ms\":\"0\",\"confluent.key.schema.validation\":\"false\",\"preallocate\":\"false\",\"confluent.value.schema.validation\":\"false\",\"message.timestamp.type\":\"CreateTime\",\"message.format.version\":\"2.4-IV1\",\"segment.bytes\":\"1073741824\",\"unclean.leader.election.enable\":\"false\",\"max.message.bytes\":\"1000012\",\"retention.ms\":\"864000000\",\"flush.ms\":\"9223372036854775807\",\"delete.retention.ms\":\"86400000\",\"leader.replication.throttled.replicas\":\"\",\"min.insync.replicas\":\"1\",\"flush.messages\":\"9223372036854775807\",\"compression.type\":\"producer\",\"index.interval.bytes\":\"4096\",\"min.cleanable.dirty.ratio\":\"0.5\"},\"partitions\":[{\"partition\":0,\"leader\":5,\"replicas\":[{\"broker\":5,\"leader\":true,\"in_sync\":true}]}]}'"
      ]
     },
     "execution_count": 2,
     "metadata": {},
     "output_type": "execute_result"
    }
   ],
   "source": [
    "r = requests.get(\"http://kafka-proxy1.sdb247.com:8082/topics/log-alimo\")\n",
    "r.text"
   ]
  },
  {
   "cell_type": "code",
   "execution_count": 3,
   "metadata": {},
   "outputs": [
    {
     "data": {
      "text/plain": [
       "True"
      ]
     },
     "execution_count": 3,
     "metadata": {},
     "output_type": "execute_result"
    }
   ],
   "source": [
    "kafka_server=\"kafka-broker1.sdb247.com:9092\"\n",
    "producer = KafkaProducer(bootstrap_servers=[kafka_server],\n",
    "                         value_serializer=lambda x: \n",
    "                         dumps(x).encode('utf-8'))\n",
    "producer.bootstrap_connected()"
   ]
  },
  {
   "cell_type": "code",
   "execution_count": 4,
   "metadata": {},
   "outputs": [],
   "source": [
    "topic_name='log_test'"
   ]
  },
  {
   "cell_type": "code",
   "execution_count": 5,
   "metadata": {},
   "outputs": [],
   "source": [
    "log_data = {'instant': {'epochSecond': 1593411344, 'nanoOfSecond': 112014000},\n",
    "            'thread': 'main', 'level': 'INFO', \n",
    "            'loggerName': 'org.springframework.context.support.PostProcessorRegistrationDelegate$BeanPostProcessorChecker',\n",
    "            'message': \"Bean 'ir.rahgozin.tipo.ghabzino.client.WaterBillInquiryGetFieldsClient' of type [org.springframework.cloud.openfeign.FeignClientFactoryBean] is not eligible for getting processed by all BeanPostProcessors (for example: not eligible for auto-proxying)\",\n",
    "            'endOfBatch': False, 'loggerFqcn': 'org.apache.commons.logging.impl.SLF4JLocationAwareLog', 'threadId': 1,\n",
    "            'threadPriority': 5}"
   ]
  },
  {
   "cell_type": "code",
   "execution_count": 14,
   "metadata": {},
   "outputs": [],
   "source": [
    "def on_send_success(record_metadata):\n",
    "    print(record_metadata.topic)\n",
    "    print(record_metadata.partition)\n",
    "    print(record_metadata.offset)\n",
    "\n",
    "def on_send_error(excp):\n",
    "    print('Message delivery failed: {}'.format(err))"
   ]
  },
  {
   "cell_type": "code",
   "execution_count": 15,
   "metadata": {},
   "outputs": [
    {
     "data": {
      "text/plain": [
       "<kafka.producer.future.FutureRecordMetadata at 0x7f298d63de10>"
      ]
     },
     "execution_count": 15,
     "metadata": {},
     "output_type": "execute_result"
    },
    {
     "name": "stdout",
     "output_type": "stream",
     "text": [
      "log_test\n",
      "0\n",
      "84\n"
     ]
    }
   ],
   "source": [
    "producer.send(topic_name, value=log_data).add_callback(on_send_success).add_errback(on_send_error)"
   ]
  },
  {
   "cell_type": "code",
   "execution_count": 16,
   "metadata": {},
   "outputs": [],
   "source": [
    "producer.flush()"
   ]
  }
 ],
 "metadata": {
  "kernelspec": {
   "display_name": "Python 3",
   "language": "python",
   "name": "python3"
  },
  "language_info": {
   "codemirror_mode": {
    "name": "ipython",
    "version": 3
   },
   "file_extension": ".py",
   "mimetype": "text/x-python",
   "name": "python",
   "nbconvert_exporter": "python",
   "pygments_lexer": "ipython3",
   "version": "3.6.8"
  }
 },
 "nbformat": 4,
 "nbformat_minor": 4
}
