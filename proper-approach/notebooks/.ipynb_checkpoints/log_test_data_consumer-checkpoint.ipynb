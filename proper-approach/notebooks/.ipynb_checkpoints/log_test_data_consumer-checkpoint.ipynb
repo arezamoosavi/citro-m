{
 "cells": [
  {
   "cell_type": "code",
   "execution_count": 23,
   "metadata": {},
   "outputs": [],
   "source": [
    "import json\n",
    "import sys\n",
    "import base64\n",
    "from bson import json_util\n",
    "import requests\n",
    "from kafka import KafkaConsumer\n",
    "from json import loads"
   ]
  },
  {
   "cell_type": "code",
   "execution_count": 2,
   "metadata": {},
   "outputs": [
    {
     "data": {
      "text/plain": [
       "'{\"name\":\"log_test\",\"configs\":{\"message.downconversion.enable\":\"true\",\"file.delete.delay.ms\":\"60000\",\"segment.ms\":\"604800000\",\"min.compaction.lag.ms\":\"0\",\"retention.bytes\":\"-1\",\"segment.index.bytes\":\"10485760\",\"cleanup.policy\":\"delete\",\"max.compaction.lag.ms\":\"9223372036854775807\",\"follower.replication.throttled.replicas\":\"\",\"message.timestamp.difference.max.ms\":\"9223372036854775807\",\"confluent.placement.constraints\":\"\",\"segment.jitter.ms\":\"0\",\"confluent.key.schema.validation\":\"false\",\"preallocate\":\"false\",\"confluent.value.schema.validation\":\"false\",\"message.timestamp.type\":\"CreateTime\",\"message.format.version\":\"2.4-IV1\",\"segment.bytes\":\"1073741824\",\"unclean.leader.election.enable\":\"false\",\"max.message.bytes\":\"1000012\",\"retention.ms\":\"864000000\",\"flush.ms\":\"9223372036854775807\",\"delete.retention.ms\":\"86400000\",\"leader.replication.throttled.replicas\":\"\",\"min.insync.replicas\":\"1\",\"flush.messages\":\"9223372036854775807\",\"compression.type\":\"producer\",\"index.interval.bytes\":\"4096\",\"min.cleanable.dirty.ratio\":\"0.5\"},\"partitions\":[{\"partition\":0,\"leader\":5,\"replicas\":[{\"broker\":5,\"leader\":true,\"in_sync\":true}]}]}'"
      ]
     },
     "execution_count": 2,
     "metadata": {},
     "output_type": "execute_result"
    }
   ],
   "source": [
    "r = requests.get(\"http://kafka-proxy1.sdb247.com:8082/topics/log_test\")\n",
    "r.text"
   ]
  },
  {
   "cell_type": "code",
   "execution_count": 26,
   "metadata": {},
   "outputs": [
    {
     "data": {
      "text/plain": [
       "True"
      ]
     },
     "execution_count": 26,
     "metadata": {},
     "output_type": "execute_result"
    }
   ],
   "source": [
    "kafka_server=\"kafka-broker1.sdb247.com:9092\"\n",
    "\n",
    "consumer = KafkaConsumer(\n",
    "    'log_test',\n",
    "     bootstrap_servers=[kafka_server],\n",
    "     auto_offset_reset='earliest',\n",
    "     enable_auto_commit=True,\n",
    "     value_deserializer=lambda x: loads(x.decode('utf-8')))\n",
    "consumer.bootstrap_connected()"
   ]
  },
  {
   "cell_type": "code",
   "execution_count": 43,
   "metadata": {},
   "outputs": [
    {
     "name": "stdout",
     "output_type": "stream",
     "text": [
      "{'instant': {'epochSecond': 1593411344, 'nanoOfSecond': 112014000}, 'thread': 'main', 'level': 'INFO', 'loggerName': 'org.springframework.context.support.PostProcessorRegistrationDelegate$BeanPostProcessorChecker', 'message': \"Bean 'ir.rahgozin.tipo.ghabzino.client.WaterBillInquiryGetFieldsClient' of type [org.springframework.cloud.openfeign.FeignClientFactoryBean] is not eligible for getting processed by all BeanPostProcessors (for example: not eligible for auto-proxying)\", 'endOfBatch': False, 'loggerFqcn': 'org.apache.commons.logging.impl.SLF4JLocationAwareLog', 'threadId': 1, 'threadPriority': 5}\n"
     ]
    }
   ],
   "source": [
    "for msg in consumer:\n",
    "    print(msg.value)\n",
    "    break"
   ]
  }
 ],
 "metadata": {
  "kernelspec": {
   "display_name": "Python 3",
   "language": "python",
   "name": "python3"
  },
  "language_info": {
   "codemirror_mode": {
    "name": "ipython",
    "version": 3
   },
   "file_extension": ".py",
   "mimetype": "text/x-python",
   "name": "python",
   "nbconvert_exporter": "python",
   "pygments_lexer": "ipython3",
   "version": "3.6.8"
  }
 },
 "nbformat": 4,
 "nbformat_minor": 4
}
